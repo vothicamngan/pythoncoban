{
 "cells": [
  {
   "cell_type": "markdown",
   "metadata": {},
   "source": [
    "## Review: type()"
   ]
  },
  {
   "cell_type": "code",
   "execution_count": 4,
   "metadata": {},
   "outputs": [
    {
     "name": "stdout",
     "output_type": "stream",
     "text": [
      "<class 'int'>\n",
      "<class 'float'>\n",
      "<class 'bool'>\n",
      "<class 'str'>\n"
     ]
    }
   ],
   "source": [
    "# Python có 4 kiểu dữ liệu cơ bản\n",
    "print(type(4))\n",
    "print(type(10.05))\n",
    "print(type(True))\n",
    "print(type(\"Hello Python\"))"
   ]
  },
  {
   "cell_type": "markdown",
   "metadata": {},
   "source": [
    "## list là gì?"
   ]
  },
  {
   "cell_type": "code",
   "execution_count": null,
   "metadata": {},
   "outputs": [],
   "source": [
    "# Ví dụ\n",
    "diem_van_1 = 7\n",
    "diem_toan_1 = 8\n",
    "diem_anh_1 = 6.5\n",
    "diem_van_2 = 6.5\n",
    "diem_toan_2 = 8\n",
    "diem_anh_2 = 6.5"
   ]
  },
  {
   "cell_type": "code",
   "execution_count": 5,
   "metadata": {},
   "outputs": [
    {
     "data": {
      "text/plain": [
       "[1, 'python', True, -1.2, [1, 2, 3]]"
      ]
     },
     "execution_count": 5,
     "metadata": {},
     "output_type": "execute_result"
    }
   ],
   "source": [
    "# Sử dụng list\n",
    "[1, 2, 3]\n",
    "['Python', 'Hello', 'PYF2304R1']\n",
    "[True, False]\n",
    "[1.0, 3.14, 2.56, -1.03]\n",
    "[1, 'python', True, -1.2, [1, 2, 3]]"
   ]
  },
  {
   "cell_type": "code",
   "execution_count": 10,
   "metadata": {},
   "outputs": [
    {
     "name": "stdout",
     "output_type": "stream",
     "text": [
      "4\n",
      "0 - monday\n",
      "1 - tuesday\n",
      "2 - wednesday\n",
      "3 - thursday\n",
      "------------------------\n",
      "monday\n",
      "tuesday\n",
      "wednesday\n",
      "thursday\n",
      "------------------------\n",
      "tuesday\n"
     ]
    }
   ],
   "source": [
    "weekdays = ['monday', 'tuesday', 'wednesday', 'thursday']\n",
    "\n",
    "print(len(weekdays))\n",
    "\n",
    "for i in range(len(weekdays)):\n",
    "    print(i, \"-\", weekdays[i])\n",
    "    \n",
    "print('------------------------')\n",
    "\n",
    "for day in weekdays:\n",
    "    print(day)\n",
    "    \n",
    "print('------------------------')\n",
    "\n",
    "print(weekdays[1])"
   ]
  },
  {
   "cell_type": "markdown",
   "metadata": {},
   "source": [
    "### Thực hành: Viết chương trình tạo ra một list các string khác nhau và đếm tổng số lượng string dài hơn 3 kí tự"
   ]
  },
  {
   "cell_type": "code",
   "execution_count": 5,
   "metadata": {},
   "outputs": [
    {
     "name": "stdout",
     "output_type": "stream",
     "text": [
      "['string', 'a', 'b', 'ngan']\n",
      "Có 2 string dài hơn 3 ký tự\n"
     ]
    }
   ],
   "source": [
    "random_contents = []\n",
    "string = \"\"\n",
    "i=1\n",
    "while True:\n",
    "    string = str(input(f\"Nhập vào phần tử thứ {i}\").strip())\n",
    "    if len(string) ==0:\n",
    "        continue\n",
    "    if string.lower() in ['stop','dừng']:\n",
    "        break\n",
    "    else:\n",
    "        random_contents.append(string)\n",
    "    i+=1\n",
    "print(random_contents)\n",
    "count = 0\n",
    "for item in range(random_contents):\n",
    "    if len(item) > 3 :\n",
    "        count += 1\n",
    "print(f\"Có {count} string dài hơn 3 ký tự\")"
   ]
  },
  {
   "cell_type": "code",
   "execution_count": 11,
   "metadata": {},
   "outputs": [
    {
     "name": "stdout",
     "output_type": "stream",
     "text": [
      "Có 3 string dài hơn 3 ký tự\n"
     ]
    }
   ],
   "source": [
    "random_contents = ['abcde', 'ab', 'c', 'abcd', 'abcdef']\n",
    "count = 0\n",
    "\n",
    "for i in range(len(random_contents)):\n",
    "    if len(random_contents[i]) > 3:\n",
    "        count += 1\n",
    "        \n",
    "print(f\"Có {count} string dài hơn 3 ký tự\")"
   ]
  },
  {
   "cell_type": "markdown",
   "metadata": {},
   "source": [
    "### Thực hành 2: Viết chương trình nhận vào 2 list và trả về True nếu 2 list có ít nhất 1 phần tử chung, ngược lại trả về False"
   ]
  },
  {
   "cell_type": "code",
   "execution_count": 9,
   "metadata": {},
   "outputs": [
    {
     "name": "stdout",
     "output_type": "stream",
     "text": [
      "False\n"
     ]
    }
   ],
   "source": [
    "def kiem_tra_list(list_1, list_2):\n",
    "    for item1 in list_1:\n",
    "        if(item1 in list_2):\n",
    "            return True\n",
    "    return False\n",
    "list1 = [1,3,5,7,9]\n",
    "list2 = [2,4,6,8,10]\n",
    "ket_qua = kiem_tra_list(list1, list2)\n",
    "print(ket_qua)"
   ]
  },
  {
   "cell_type": "markdown",
   "metadata": {},
   "source": [
    "## Các thao tác cơ bản với list"
   ]
  },
  {
   "cell_type": "code",
   "execution_count": 12,
   "metadata": {},
   "outputs": [
    {
     "name": "stdout",
     "output_type": "stream",
     "text": [
      "6\n"
     ]
    }
   ],
   "source": [
    "numbers = [0, 1, 2, 3, 4, 5]\n",
    "print(len(numbers))"
   ]
  },
  {
   "cell_type": "markdown",
   "metadata": {},
   "source": [
    "### Truy cập phần tử trên list"
   ]
  },
  {
   "cell_type": "code",
   "execution_count": 20,
   "metadata": {},
   "outputs": [
    {
     "name": "stdout",
     "output_type": "stream",
     "text": [
      "2\n",
      "2\n",
      "[0, 1, 20, 3, 4, 5]\n"
     ]
    }
   ],
   "source": [
    "numbers = [0, 1, 2, 3, 4, 5]\n",
    "print(numbers[2])  # indexing\n",
    "print(numbers[-4])  # reverse indexing\n",
    "\n",
    "numbers[2] = 20  # item assignment\n",
    "print(numbers)"
   ]
  },
  {
   "cell_type": "code",
   "execution_count": 18,
   "metadata": {},
   "outputs": [
    {
     "ename": "TypeError",
     "evalue": "'str' object does not support item assignment",
     "output_type": "error",
     "traceback": [
      "\u001b[1;31m---------------------------------------------------------------------------\u001b[0m",
      "\u001b[1;31mTypeError\u001b[0m                                 Traceback (most recent call last)",
      "\u001b[1;32m~\\AppData\\Local\\Temp/ipykernel_26768/1822526952.py\u001b[0m in \u001b[0;36m<module>\u001b[1;34m\u001b[0m\n\u001b[0;32m      1\u001b[0m \u001b[0mcontent\u001b[0m \u001b[1;33m=\u001b[0m \u001b[1;34m'hello'\u001b[0m\u001b[1;33m\u001b[0m\u001b[1;33m\u001b[0m\u001b[0m\n\u001b[1;32m----> 2\u001b[1;33m \u001b[0mcontent\u001b[0m\u001b[1;33m[\u001b[0m\u001b[1;36m1\u001b[0m\u001b[1;33m]\u001b[0m \u001b[1;33m=\u001b[0m \u001b[1;34m'o'\u001b[0m\u001b[1;33m\u001b[0m\u001b[1;33m\u001b[0m\u001b[0m\n\u001b[0m",
      "\u001b[1;31mTypeError\u001b[0m: 'str' object does not support item assignment"
     ]
    }
   ],
   "source": [
    "content = 'hello'\n",
    "content[1] = 'o'"
   ]
  },
  {
   "cell_type": "markdown",
   "metadata": {},
   "source": [
    "### Thực hành: Tạo một list 10 số tự nhiên và in ra các phần tử trong list"
   ]
  },
  {
   "cell_type": "code",
   "execution_count": 21,
   "metadata": {},
   "outputs": [
    {
     "name": "stdout",
     "output_type": "stream",
     "text": [
      "0\n",
      "1\n",
      "2\n",
      "3\n",
      "4\n",
      "5\n",
      "6\n",
      "7\n",
      "8\n",
      "9\n"
     ]
    }
   ],
   "source": [
    "numbers = [0, 1, 2, 3, 4, 5, 6, 7, 8, 9]\n",
    "for num in numbers:\n",
    "    print(num)"
   ]
  },
  {
   "cell_type": "markdown",
   "metadata": {},
   "source": [
    "### Thực hành 2: Tạo ra một list con chưa 2 phần tử cuối cùng từ list đã tạo ở trên"
   ]
  },
  {
   "cell_type": "code",
   "execution_count": 24,
   "metadata": {},
   "outputs": [
    {
     "name": "stdout",
     "output_type": "stream",
     "text": [
      "[8, 9]\n",
      "[8, 9]\n",
      "[8, 9]\n"
     ]
    }
   ],
   "source": [
    "numbers = [0, 1, 2, 3, 4, 5, 6, 7, 8, 9]\n",
    "# [8, 9]\n",
    "\n",
    "# Cach 1\n",
    "sub_list = [numbers[-2], numbers[-1]]\n",
    "print(sub_list)\n",
    "\n",
    "# Cach 2\n",
    "sub_list = [numbers[len(numbers) - 2], numbers[len(numbers) -1]]\n",
    "print(sub_list)\n",
    "\n",
    "# Cach 3\n",
    "sub_list = numbers[-2:]\n",
    "print(sub_list)"
   ]
  },
  {
   "cell_type": "markdown",
   "metadata": {},
   "source": [
    "### Cộng list"
   ]
  },
  {
   "cell_type": "code",
   "execution_count": 26,
   "metadata": {},
   "outputs": [
    {
     "name": "stdout",
     "output_type": "stream",
     "text": [
      "[1, 2, 3, 4, 5, 6]\n",
      "[1, 2, 3, 1, 2, 3, 1, 2, 3]\n"
     ]
    }
   ],
   "source": [
    "a = [1, 2, 3]\n",
    "b = [4, 5, 6]\n",
    "c = a + b\n",
    "print(c)\n",
    "\n",
    "d = a * 3\n",
    "print(d)"
   ]
  },
  {
   "cell_type": "markdown",
   "metadata": {},
   "source": [
    "### Thực hành: Thêm học sinh vào lớp"
   ]
  },
  {
   "cell_type": "code",
   "execution_count": 40,
   "metadata": {},
   "outputs": [
    {
     "name": "stdout",
     "output_type": "stream",
     "text": [
      "['Andy', 'Bella', 'Chris', 'Dan', 'Emma', 'Ferb']\n",
      "['Andy', 'Bella', 'Chris', 'Dan', 'Emma', 'Ferb', 'Emma', 'Ferb']\n",
      "['Andy', 'Bella', 'Chris', 'Dan', 'Emma', 'Ferb', 'Emma', 'Ferb', 'Gina']\n"
     ]
    }
   ],
   "source": [
    "# Thêm tên của các học sinh mới vào list danh_sach_lop\n",
    "danh_sach_lop = ['Andy', 'Bella', 'Chris', 'Dan']\n",
    "hoc_sinh_moi = ['Emma', 'Ferb']\n",
    "\n",
    "# Cach 1\n",
    "danh_sach_lop += hoc_sinh_moi\n",
    "print(danh_sach_lop)\n",
    "\n",
    "# Cach 2\n",
    "danh_sach_lop.extend(hoc_sinh_moi)\n",
    "print(danh_sach_lop)\n",
    "\n",
    "# Cach 3\n",
    "danh_sach_lop.append('Gina')\n",
    "print(danh_sach_lop)"
   ]
  },
  {
   "cell_type": "markdown",
   "metadata": {},
   "source": [
    "### Kiểm tra phần tử tồn tại trong list"
   ]
  },
  {
   "cell_type": "code",
   "execution_count": 30,
   "metadata": {},
   "outputs": [
    {
     "name": "stdout",
     "output_type": "stream",
     "text": [
      "True\n",
      "False\n"
     ]
    }
   ],
   "source": [
    "student_list = ['Andy', 'Bella', 'Cindy']\n",
    "print('Andy' in student_list)\n",
    "print('Anne' in student_list)"
   ]
  },
  {
   "cell_type": "markdown",
   "metadata": {},
   "source": [
    "### Xóa phần tử khỏi list"
   ]
  },
  {
   "cell_type": "code",
   "execution_count": 43,
   "metadata": {},
   "outputs": [
    {
     "name": "stdout",
     "output_type": "stream",
     "text": [
      "['Andy', 'Cindy']\n",
      "['Andy', 'Cindy']\n",
      "['Andy', 'Bella']\n",
      "Cindy\n"
     ]
    }
   ],
   "source": [
    "student_list = ['Andy', 'Bella', 'Cindy']\n",
    "\n",
    "# Cách 1: remove() -> xóa theo giá trị\n",
    "student_list.remove(\"Bella\") \n",
    "print(student_list)\n",
    "\n",
    "# Cách 2: del -> xóa theo index\n",
    "student_list = ['Andy', 'Bella', 'Cindy']\n",
    "del student_list[1]\n",
    "print(student_list)\n",
    "\n",
    "# Cách 3: pop -> xóa phần tử ở cuối\n",
    "student_list = ['Andy', 'Bella', 'Cindy']\n",
    "removed_name = student_list.pop()\n",
    "print(student_list)\n",
    "print(removed_name)"
   ]
  },
  {
   "cell_type": "markdown",
   "metadata": {},
   "source": [
    "### Sắp xếp list"
   ]
  },
  {
   "cell_type": "code",
   "execution_count": 47,
   "metadata": {},
   "outputs": [
    {
     "name": "stdout",
     "output_type": "stream",
     "text": [
      "List before sort: [20, 31, 25, 67, 1, 173]\n",
      "List after sort: [173, 67, 31, 25, 20, 1]\n"
     ]
    }
   ],
   "source": [
    "a = [20, 31, 25, 67, 1, 173]\n",
    "# Cách 1: sort()\n",
    "print(f\"List before sort: {a}\")\n",
    "# a.sort()  # sắp xếp lại các phần tử trong list a theo thứ tự từ bé đến lớn\n",
    "a.sort(reverse=True)  # sắp xếp lại các phần tử trong list a theo thứ tự từ lớn đến bé\n",
    "print(f\"List after sort: {a}\")"
   ]
  },
  {
   "cell_type": "code",
   "execution_count": 49,
   "metadata": {},
   "outputs": [
    {
     "name": "stdout",
     "output_type": "stream",
     "text": [
      "List a: [20, 31, 25, 67, 1, 173]\n",
      "List b: [173, 67, 31, 25, 20, 1]\n"
     ]
    }
   ],
   "source": [
    "a = [20, 31, 25, 67, 1, 173]\n",
    "# Cách 2: sorted()\n",
    "b = sorted(a, reverse=True)\n",
    "print(f\"List a: {a}\")\n",
    "print(f\"List b: {b}\")"
   ]
  },
  {
   "cell_type": "markdown",
   "metadata": {},
   "source": [
    "### Làm rỗng list"
   ]
  },
  {
   "cell_type": "code",
   "execution_count": 51,
   "metadata": {},
   "outputs": [
    {
     "name": "stdout",
     "output_type": "stream",
     "text": [
      "[]\n"
     ]
    }
   ],
   "source": [
    "a = [1, 2, 3]\n",
    "a = []\n",
    "# a.clear()\n",
    "print(a)"
   ]
  },
  {
   "cell_type": "markdown",
   "metadata": {},
   "source": [
    "### Copy list"
   ]
  },
  {
   "attachments": {
    "image.png": {
     "image/png": "[encoded data removed]"
    }
   },
   "cell_type": "markdown",
   "metadata": {},
   "source": [
    "`![image.png](attachment:image.png)"
   ]
  },
  {
   "cell_type": "markdown",
   "metadata": {},
   "source": [
    "## tuple"
   ]
  },
  {
   "cell_type": "code",
   "execution_count": 57,
   "metadata": {},
   "outputs": [
    {
     "name": "stdout",
     "output_type": "stream",
     "text": [
      "Python\n",
      "3-5-7\n",
      "2\n"
     ]
    }
   ],
   "source": [
    "info = (\"Python\", \"3-5-7\", 2)\n",
    "\n",
    "# unpack tuple\n",
    "course_name, day, duration = info\n",
    "print(course_name)\n",
    "print(day)\n",
    "print(duration)"
   ]
  },
  {
   "cell_type": "code",
   "execution_count": null,
   "metadata": {},
   "outputs": [],
   "source": []
  },
  {
   "cell_type": "markdown",
   "metadata": {},
   "source": [
    "Bài 1: Với tuple (1,2,3,4,5,6,7,8,9,10) cho trước, viết một chương trình in một nửa số giá trị đầu tiên trong 1 dòng và 1 nửa số giá trị cuối trong 1 dòng.\n",
    "\n",
    "Bài 2: Cho  tuple  num(0, 3, 54, 87, 23, 3, 99, 45, 87, 87, 100, 23)\n",
    "Hãy viết chương trình cho biết:\n",
    "- Phần tử có giá trị lớn nhất/nhỏ nhất của tuple\n",
    "- Cho biết số phần tử của tuple\n",
    "- In ra các phần tử của tuple\n",
    "- Cho biết số lần xuất hiện của số 87, 23 \n",
    "- Cho biết chỉ số của phần tử 100 và 99 index(x)\n",
    "- Nhập số x từ bàn phím và cho biết số lần xuất hiện của x trong tuple"
   ]
  }
 ],
 "metadata": {
  "kernelspec": {
   "display_name": "Python 3 (ipykernel)",
   "language": "python",
   "name": "python3"
  },
  "language_info": {
   "codemirror_mode": {
    "name": "ipython",
    "version": 3
   },
   "file_extension": ".py",
   "mimetype": "text/x-python",
   "name": "python",
   "nbconvert_exporter": "python",
   "pygments_lexer": "ipython3",
   "version": "3.11.4"
  }
 },
 "nbformat": 4,
 "nbformat_minor": 4
}
