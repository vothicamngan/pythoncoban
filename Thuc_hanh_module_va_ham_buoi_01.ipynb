{
 "cells": [
  {
   "cell_type": "markdown",
   "id": "a2a38651",
   "metadata": {},
   "source": [
    "## Bài 1:\n",
    "Viết hàm my_info() nhận vào 2 tham số `name` và `course`, sau đó in ra thông tin tương ứng. Ví dụ: \n",
    "```\n",
    "my_info('Tèo', 'Python')\n",
    "\n",
    "Output: \n",
    "My name is Tèo.\n",
    "I'm studying Python.\n",
    "```"
   ]
  },
  {
   "cell_type": "code",
   "execution_count": 1,
   "id": "392f869d",
   "metadata": {},
   "outputs": [
    {
     "name": "stdout",
     "output_type": "stream",
     "text": [
      "My name is Tèo\n",
      "    I'm studying Python\n"
     ]
    }
   ],
   "source": [
    "def my_info(name, course):\n",
    "    # code below this line\n",
    "    print(f'''My name is {name}\n",
    "I'm studying {course}''')\n",
    "    # code above this line\n",
    "    \n",
    "my_info('Tèo', 'Python')"
   ]
  },
  {
   "cell_type": "markdown",
   "id": "7390cb06",
   "metadata": {},
   "source": [
    "## Bài 2:\n",
    "Viết hàm sum_even() nhận vào một số `n` và in ra tổng các số chẵn từ 2 đến n.\n",
    "Ví dụ:\n",
    "```\n",
    "sum_even(10)\n",
    "\n",
    "Output:\n",
    "30\n",
    "```"
   ]
  },
  {
   "cell_type": "code",
   "execution_count": 8,
   "id": "df52dd4b",
   "metadata": {},
   "outputs": [
    {
     "name": "stdout",
     "output_type": "stream",
     "text": [
      "Tổng các số chẵn của 5 là 9\n"
     ]
    }
   ],
   "source": [
    "def sum_even(n):\n",
    "    sum_e = 0\n",
    "    for x in range(1,n+1,2):\n",
    "        sum_e += x;\n",
    "    print(f\"Tổng các số chẵn của {n} là {sum_e}\")\n",
    "    \n",
    "\n",
    "sum_even(5)"
   ]
  },
  {
   "cell_type": "markdown",
   "id": "0f69e7f2",
   "metadata": {},
   "source": [
    "## Bài 3:\n",
    "Viết hàm easy_math() nhận vào 3 tham số `num1`, `op`, `num 2` để thực hiện phép tính tương ứng và in ra kết quả. \n",
    "Ví dụ:\n",
    "```\n",
    "easy_math(5, '+', 5)\n",
    "\n",
    "Output:\n",
    "10\n",
    "```\n"
   ]
  },
  {
   "cell_type": "code",
   "execution_count": 5,
   "id": "ce6058ca",
   "metadata": {},
   "outputs": [
    {
     "name": "stdout",
     "output_type": "stream",
     "text": [
      "3125\n"
     ]
    }
   ],
   "source": [
    "def easy_math(num1, op, num2):\n",
    "    # code below this line\n",
    "    print(eval(f\"{num1}{op}{num2}\"))\n",
    "    # code above this line\n",
    "\n",
    "easy_math(5, '**', 5)"
   ]
  },
  {
   "cell_type": "markdown",
   "id": "3239a01d",
   "metadata": {},
   "source": [
    "## Bài 4:\n",
    "Viết hàm check_even() nhận vào tham số `number` và kiểm tra xem `number` có phải là số chẵn hay không.\n",
    "Ví dụ:\n",
    "```\n",
    "check_even(5)\n",
    "\n",
    "Output:\n",
    "5 là số lẻ\n",
    "```"
   ]
  },
  {
   "cell_type": "code",
   "execution_count": 7,
   "id": "f6a0918a",
   "metadata": {},
   "outputs": [
    {
     "name": "stdout",
     "output_type": "stream",
     "text": [
      "11 là số lẽ\n"
     ]
    }
   ],
   "source": [
    "def check_even(n):\n",
    "    if n%2 ==0:\n",
    "        print(f'{n} là số chẵn')\n",
    "    else: \n",
    "        print(f'{n} là số lẽ')\n",
    "    pass\n",
    "    # code above this line\n",
    "\n",
    "check_even(11)"
   ]
  },
  {
   "cell_type": "markdown",
   "id": "27a4bd3b",
   "metadata": {},
   "source": [
    "## Bài 5:\n",
    "Viết hàm transform_str() nhận vào tham số `string` và in ra `string` ở dạng uppercase và lowercase. Ví dụ:\n",
    "```\n",
    "transform_str('Function Is Magic!')\n",
    "\n",
    "Output:\n",
    "Lowercase: function is magic!\n",
    "Uppercase: FUNCTION IS MAGIC!\n",
    "```"
   ]
  },
  {
   "cell_type": "code",
   "execution_count": 10,
   "id": "ae2891a8",
   "metadata": {},
   "outputs": [
    {
     "name": "stdout",
     "output_type": "stream",
     "text": [
      "Uppercase:  function is magic!\n",
      "Lowercase FUNCTION IS MAGIC!\n"
     ]
    }
   ],
   "source": [
    "def transform_str(str1):\n",
    "    print(\"Lowercase: \", str1.lower())\n",
    "    print(\"Uppercase:\",str1.upper())\n",
    "    pass\n",
    "    \n",
    "\n",
    "transform_str('Function Is Magic!')"
   ]
  },
  {
   "cell_type": "markdown",
   "id": "163331db",
   "metadata": {},
   "source": [
    "## Bài 6:\n",
    "Viết hàm calculate_factorial() nhận vào tham số `number` và in ra giai thừa của tham số đó. Ví dụ:\n",
    "```\n",
    "calculate_factorial(5)\n",
    "\n",
    "Output: 120\n",
    "```"
   ]
  },
  {
   "cell_type": "code",
   "execution_count": 11,
   "id": "0047ec9d",
   "metadata": {},
   "outputs": [
    {
     "data": {
      "text/plain": [
       "120"
      ]
     },
     "execution_count": 11,
     "metadata": {},
     "output_type": "execute_result"
    }
   ],
   "source": [
    "def calculate_factorial(n):\n",
    "    giai_thua = 1;\n",
    "    if (n == 0 or n == 1):\n",
    "        return giai_thua;\n",
    "    else:\n",
    "        for i in range(2, n + 1):\n",
    "            giai_thua = giai_thua * i;\n",
    "        return giai_thua;\n",
    "\n",
    "calculate_factorial(5)"
   ]
  },
  {
   "cell_type": "markdown",
   "id": "6d381154",
   "metadata": {},
   "source": [
    "## Bài 7:\n",
    "Dãy Fibonacci là dãy vô hạn các số tự nhiên bắt đầu bằng 1 và 1, sau đó các số tiếp theo sẽ bằng tổng của 2 số liền trước nó. \n",
    "\n",
    "Cụ thể, các số đầu tiên của dãy Fibonacci là 1, 1, 2, 3, 5, 8, 13, 21, 34, 55, 89, 144, 233, 377, 610... \n",
    "\n",
    "Nhiệm vụ: Viết chương trình find_fibo() nhận vào tham số `index` và in ra số Fibonacci ở vị trí `index`. Nếu `index` bằng 0 thì in ra 0. Ví dụ:\n",
    "\n",
    "```\n",
    "find_fibo(1)\n",
    "\n",
    "Output:\n",
    "1\n",
    "```\n",
    "-------------------\n",
    "```\n",
    "find_fibo(6)\n",
    "\n",
    "Output:\n",
    "8\n",
    "```\n",
    "-------------------\n",
    "```\n",
    "find_fibo(0)\n",
    "\n",
    "Output:\n",
    "0\n",
    "```"
   ]
  },
  {
   "cell_type": "code",
   "execution_count": 10,
   "id": "0b8b2dc3",
   "metadata": {},
   "outputs": [
    {
     "name": "stdout",
     "output_type": "stream",
     "text": [
      "610\n"
     ]
    }
   ],
   "source": [
    "def find_fibo(index):\n",
    "    # code below this line\n",
    "    if index == 0 or index == 1:\n",
    "        print(index)\n",
    "    else:\n",
    "        f1 = 0\n",
    "        f2 = 1\n",
    "        for i in range(2, index + 1):\n",
    "            f3 = f1 + f2\n",
    "            f1 = f2\n",
    "            f2 = f3\n",
    "        print(f3)\n",
    "    # code above this line\n",
    "\n",
    "find_fibo(15)"
   ]
  },
  {
   "cell_type": "markdown",
   "id": "65db4551",
   "metadata": {},
   "source": [
    "## Bài 8:\n",
    "Viết hàm find_divisors() nhận vào một số nguyên dương `number` và in ra tất cả các ước của `number`. Ví dụ:\n",
    "```\n",
    "find_divisors(24)\n",
    "\n",
    "Output:\n",
    "Ước của 24 là: 1, 2, 3, 4, 6, 8, 12, 24\n",
    "```"
   ]
  },
  {
   "cell_type": "code",
   "execution_count": 6,
   "id": "d9b20c10",
   "metadata": {},
   "outputs": [
    {
     "name": "stdout",
     "output_type": "stream",
     "text": [
      "1, 2, 3, 4, 6, 8, 12, 24\n"
     ]
    }
   ],
   "source": [
    "def find_divisors(number):\n",
    "    # code below this line\n",
    "    for i in range(1, number):\n",
    "        if number % i == 0:\n",
    "            print(i, end=\", \")\n",
    "    print(number)\n",
    "    # code above this line\n",
    "\n",
    "find_divisors(24)"
   ]
  },
  {
   "cell_type": "markdown",
   "id": "37000ab2",
   "metadata": {},
   "source": [
    "## Bài 9:\n",
    "Viết hàm solve_equation() để giải phương trình bậc nhất ax + b = 0 với `a` và `b` là 2 tham số đầu vào. Ví dụ:\n",
    "```\n",
    "solve_equation(2, -4)\n",
    "\n",
    "Output: \n",
    "x = 2\n",
    "```\n",
    "---\n",
    "```\n",
    "solve_equation(0, 0)\n",
    "\n",
    "Output: \n",
    "Phương trình vô số nghiệm\n",
    "```\n",
    "---\n",
    "```\n",
    "solve_equation(0, -4)\n",
    "\n",
    "Output: \n",
    "Phương trình vô nghiệm\n",
    "```"
   ]
  },
  {
   "cell_type": "code",
   "execution_count": 14,
   "id": "abfc5589",
   "metadata": {},
   "outputs": [
    {
     "name": "stdout",
     "output_type": "stream",
     "text": [
      "x= 2.0\n",
      "Phương trình vô nghiệm\n",
      "Phương trình vô số nghiệm\n"
     ]
    }
   ],
   "source": [
    "def solve_equation(a,b):\n",
    "    if(a==0 and b==0):\n",
    "        print(\"Phương trình vô số nghiệm\")\n",
    "    if b ==0:\n",
    "        print(\"Phương trình vô nghiệm\")\n",
    "    if a!=0:\n",
    "        x = -b/a\n",
    "        print(f'x= {x}')\n",
    "    \n",
    "solve_equation(2, -4)\n",
    "solve_equation(0, 0)\n",
    "solve_equation(0, 7)"
   ]
  },
  {
   "cell_type": "markdown",
   "id": "a483ed69",
   "metadata": {},
   "source": [
    "## Bài 10:\n",
    "Viết hàm find_distance() nhận vào 4 tham số `x1`, `y1`, `x2`, `y2` là tọa độ của 2 điểm trên trục tọa độ và in ra khoảng cách của 2 điểm đó theo công thức:\n",
    "```\n",
    "distance = sqrt((x1-x2)^2 + (y1-y2)^2)\n",
    "```\n",
    "Tham khảo: https://toanthaydinh.com/cong-thuc-tinh-khoang-cach-giua-2-diem/\n",
    "Khoảng cách được làm tròn 2 chữ số thập phân.\n",
    "\n",
    "Ví dụ:\n",
    "```\n",
    "find_distance(5, 2, 1, 3)\n",
    "\n",
    "Output:\n",
    "4.12\n",
    "```"
   ]
  },
  {
   "cell_type": "code",
   "execution_count": 15,
   "id": "2dcf614e",
   "metadata": {},
   "outputs": [
    {
     "name": "stdout",
     "output_type": "stream",
     "text": [
      "4.123105625617661\n"
     ]
    }
   ],
   "source": [
    "import math\n",
    "def find_distance(x1,y1,x2,y2):\n",
    "    dist = math.sqrt((x2 - x1)**2 + (y2 - y1)**2)\n",
    "    print(f\"{dist}\")\n",
    "\n",
    "find_distance(5, 2, 1, 3)"
   ]
  },
  {
   "cell_type": "markdown",
   "id": "6236743e",
   "metadata": {},
   "source": [
    "## Bài 11(bonus):\n",
    "Viết hàm test_password() nhận vào một chuỗi(xem như là mật khẩu của người dùng).\n",
    "Sau đó kiểm tra xem đây có phải là mật khẩu mạnh hay không theo quy tắc sau:\n",
    "- Mật khẩu mạnh là mật khẩu phải có ít nhất 1 chữ hoa, 1 chữ thường, 1 số và 1 ký tự đặc biệt"
   ]
  },
  {
   "cell_type": "code",
   "execution_count": 2,
   "id": "b24922e7",
   "metadata": {},
   "outputs": [
    {
     "name": "stdout",
     "output_type": "stream",
     "text": [
      "Mật khẩu yếu\n"
     ]
    }
   ],
   "source": [
    "def test_password(password):\n",
    "    if not any(char.upper() for char in password):\n",
    "        return False\n",
    "    if not any(char.lower() for char in password):\n",
    "        return False\n",
    "    if not any(char.isdigit() for char in password):\n",
    "        return False\n",
    "    special_characters = \"!@#$%^&*()-=_+[]{}|;:'\\\",.<>/?\"\n",
    "    if not any(char in special_characters for char in password):\n",
    "        return False\n",
    "    return True\n",
    "\n",
    "if test_password(\"ngan\"):\n",
    "    print(f\"Mật khẩu mạnh\")\n",
    "else:\n",
    "    print(f\"Mật khẩu yếu\")"
   ]
  },
  {
   "cell_type": "markdown",
   "id": "8062db24-16cc-452f-a9e5-0971dd020b84",
   "metadata": {},
   "source": [
    "## Bài 12: Chuyển đổi nhiệt độ\n",
    "Tham số đầu vào: độ F (hoặc độ C) Kết quả: độ C (hoặc độ F), lấy 2 số thập phân\n",
    "\n",
    "độ_F = độ_C * (9 / 5) + 32\n",
    "\n",
    "độ_C = (độ_F - 32) * (5 / 9)"
   ]
  },
  {
   "cell_type": "code",
   "execution_count": 4,
   "id": "a145d32d-1ca9-4772-a739-2ea64aa06997",
   "metadata": {},
   "outputs": [
    {
     "name": "stdout",
     "output_type": "stream",
     "text": [
      "37 bằng 98.6\n"
     ]
    }
   ],
   "source": [
    "def chuyen_nhietdoi (do_c):\n",
    "    do_f = round((do_c * (9/5) + 32),2)\n",
    "    print(f'{do_c} bằng {do_f}')\n",
    "chuyen_nhietdoi(37)"
   ]
  },
  {
   "cell_type": "markdown",
   "id": "bd1b8050-f752-4f46-967f-531eec86884d",
   "metadata": {},
   "source": [
    "## Bài 13: Hàm tính số tiền lãi cần tính khi gửi tiết kiệm\n",
    "Yêu cầu:\n",
    "* Input: Số tiền gửi, số năm gửi, lãi suất\n",
    "* Ouput: In ra số tiền lãi từng năm, số tiền tích lũy từng năm.\n",
    "Trong đó:\n",
    "* Tiền lãi = Tiền tích lũy * lãi suất\n",
    "  \n",
    "VD: Gửi 10 triệu, 3 năm, lãi suất 5%/năm\n",
    "\n",
    "Năm 1: Lãi: 10tr x 5% = 500,000 đ, tiền tích lũy = 10tr + 500k = 10,500,000 đ\n",
    "\n",
    "Năm 2: Lãi: 10,5tr x 5% = 525,000 đ, tiền tích lũy = 10,5tr + 525k = 11,025,000 đ\n",
    "\n",
    "Năm 3: Lãi: 11,025tr x 5% = 551,250 đ, tiền tích lũy = 11,025tr + 551,250 đ = 11,576,250 đ"
   ]
  },
  {
   "cell_type": "code",
   "execution_count": 8,
   "id": "33152b02-3b54-4cb5-9d84-31d55bf0abb4",
   "metadata": {},
   "outputs": [
    {
     "name": "stdout",
     "output_type": "stream",
     "text": [
      "Năm 1: Lãi 10000000x50000000.0% = 500000.0đ, tiền tích luỹ = 10000000+ 500000.0 = 10500000.0\n",
      "Năm 2: Lãi 10500000.0x52500000.0% = 525000.0đ, tiền tích luỹ = 10500000.0+ 525000.0 = 11025000.0\n",
      "Năm 3: Lãi 11025000.0x55125000.0% = 551250.0đ, tiền tích luỹ = 11025000.0+ 551250.0 = 11576250.0\n",
      "Năm 4: Lãi 11576250.0x57881250.0% = 578812.5đ, tiền tích luỹ = 11576250.0+ 578812.5 = 12155062.5\n",
      "Năm 5: Lãi 12155062.5x60775312.5% = 607753.125đ, tiền tích luỹ = 12155062.5+ 607753.125 = 12762815.625\n"
     ]
    }
   ],
   "source": [
    "\n",
    "def tinh_so_lai_suat (tien_gui,lai_suat,namgui ):\n",
    "    tien_tich_luy = tien_gui\n",
    "    tien_lai = 0\n",
    "    for i in range(1, namgui+1):\n",
    "        tien_lai = tien_tich_luy * lai_suat\n",
    "        print(f\"Năm {i}: Lãi {tien_tich_luy}x{tien_lai*100}% = {tien_lai}đ, tiền tích luỹ = {tien_tich_luy}+ {tien_lai} = {tien_lai+tien_tich_luy}\")\n",
    "        tien_tich_luy = tien_tich_luy +tien_lai\n",
    "        i +=1\n",
    "tinh_so_lai_suat (10000000,0.05,5)"
   ]
  }
 ],
 "metadata": {
  "kernelspec": {
   "display_name": "Python 3 (ipykernel)",
   "language": "python",
   "name": "python3"
  },
  "language_info": {
   "codemirror_mode": {
    "name": "ipython",
    "version": 3
   },
   "file_extension": ".py",
   "mimetype": "text/x-python",
   "name": "python",
   "nbconvert_exporter": "python",
   "pygments_lexer": "ipython3",
   "version": "3.11.4"
  }
 },
 "nbformat": 4,
 "nbformat_minor": 5
}
