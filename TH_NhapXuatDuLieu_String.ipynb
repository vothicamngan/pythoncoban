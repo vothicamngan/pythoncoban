{
 "cells": [
  {
   "cell_type": "markdown",
   "id": "82503791",
   "metadata": {},
   "source": [
    "# Thực hành nhập xuất dữ liệu và String"
   ]
  },
  {
   "cell_type": "markdown",
   "id": "60287ee1",
   "metadata": {},
   "source": [
    "## Bài 1\n",
    "Viết chương trình nhập vào 2 số nguyên `num1` và `num2`. In ra tích của 2 số nguyên đó."
   ]
  },
  {
   "cell_type": "markdown",
   "id": "c5d85e59",
   "metadata": {},
   "source": [
    "Workflow:"
   ]
  },
  {
   "cell_type": "code",
   "execution_count": 3,
   "id": "0b766812",
   "metadata": {},
   "outputs": [
    {
     "name": "stdout",
     "output_type": "stream",
     "text": [
      "Tích num1 và num 2: 4\n"
     ]
    }
   ],
   "source": [
    "num1 = int(input('Nhập vào số đầu tiên:'))\n",
    "num2 = int(input('Nhập vào số thứ 2:'))\n",
    "sum_num = num1*num2\n",
    "print(f\"Tích num1 và num2: {sum_num}\")"
   ]
  },
  {
   "cell_type": "markdown",
   "id": "89dda208",
   "metadata": {},
   "source": [
    "## Bài 2\n",
    "Viết chương trình nhập vào `name`(tên) của người dùng. In ra nội dung sau: \"Hello --name--\"\n",
    "\n",
    "Ví dụ:\n",
    "name = \"Long\"\n",
    "\n",
    "Kết quả in ra sẽ là:\n",
    "\"Hello Long\""
   ]
  },
  {
   "cell_type": "markdown",
   "id": "88b6254e",
   "metadata": {},
   "source": [
    "Workflow:\n"
   ]
  },
  {
   "cell_type": "code",
   "execution_count": 4,
   "id": "d6000627",
   "metadata": {},
   "outputs": [
    {
     "name": "stdout",
     "output_type": "stream",
     "text": [
      "Hello Ngân\n"
     ]
    }
   ],
   "source": [
    "name = input(\"Nhập vào tên\")\n",
    "print (f\"Hello {name}\")"
   ]
  },
  {
   "cell_type": "markdown",
   "id": "a5073d2f",
   "metadata": {},
   "source": [
    "## Bài 3\n",
    "Viết chương trình nhập vào 2 số nguyên num1 và num2. In ra thương của 2 số nguyên đó (làm tròn 2 chữ số thập phân)."
   ]
  },
  {
   "cell_type": "markdown",
   "id": "36d7f695",
   "metadata": {},
   "source": [
    "Workflow:"
   ]
  },
  {
   "cell_type": "code",
   "execution_count": 6,
   "id": "f03e79c5",
   "metadata": {},
   "outputs": [
    {
     "ename": "SyntaxError",
     "evalue": "unterminated string literal (detected at line 3) (3996660247.py, line 3)",
     "output_type": "error",
     "traceback": [
      "\u001b[1;36m  Cell \u001b[1;32mIn[6], line 3\u001b[1;36m\u001b[0m\n\u001b[1;33m    print(f\"Thương 2 số {round((num1/num2),2)})\u001b[0m\n\u001b[1;37m          ^\u001b[0m\n\u001b[1;31mSyntaxError\u001b[0m\u001b[1;31m:\u001b[0m unterminated string literal (detected at line 3)\n"
     ]
    }
   ],
   "source": [
    "num1 = int(input(\"Nhập vào num1\"))\n",
    "num2 = int(input('Nhập vào num2'))\n",
    "print(f\"Thương 2 số {round((num1/num2),2)}) "
   ]
  }
 ],
 "metadata": {
  "kernelspec": {
   "display_name": "Python 3 (ipykernel)",
   "language": "python",
   "name": "python3"
  },
  "language_info": {
   "codemirror_mode": {
    "name": "ipython",
    "version": 3
   },
   "file_extension": ".py",
   "mimetype": "text/x-python",
   "name": "python",
   "nbconvert_exporter": "python",
   "pygments_lexer": "ipython3",
   "version": "3.11.4"
  }
 },
 "nbformat": 4,
 "nbformat_minor": 5
}
